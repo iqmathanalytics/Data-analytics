{
 "cells": [
  {
   "cell_type": "markdown",
   "metadata": {
    "colab_type": "text",
    "collapsed": true,
    "id": "qbukc_D7Mu_N"
   },
   "source": [
    "## Table of Content\n",
    "\n",
    "1. **[Introduction to List](#list)**\n",
    "2. **[Introduction to Tuple](#tuple)**\n",
    "3. **[Introduction to Dictionary](#dictionary)**\n",
    "4. **[Introduction to Sets](#sets)**"
   ]
  },
  {
   "cell_type": "markdown",
   "metadata": {
    "colab_type": "text",
    "id": "9OLvCAzPMu_R"
   },
   "source": [
    "<a id=\"list\"> </a>\n",
    "## 1. Introduction to List\n",
    "<table align=\"left\">\n",
    "    <tr>\n",
    "        <td width=\"15%\">\n",
    "            <img src=\"note.png\">\n",
    "        </td>\n",
    "        <td>\n",
    "            <div align=\"left\", style=\"font-size:120%\">\n",
    "                <font color=\"#21618C\">\n",
    "                    <b>A python list is a collection of items that are ordered. It implements the sequence protocol, and also allows you to add and remove elements from the sequence. We can use the index in square brackets, [ ], to identify a value belonging to the list by position.<br>\n",
    "                    </b>\n",
    "                </font>\n",
    "            </div>\n",
    "        </td>\n",
    "    </tr>\n",
    "</table>"
   ]
  },
  {
   "cell_type": "markdown",
   "metadata": {
    "colab_type": "text",
    "id": "UU_YBCAYMu_U"
   },
   "source": [
    "### Constructing Lists\n",
    "\n",
    "To create a list, use square brackets [] and separate items in the list with commas.\n",
    "A list can be empty or contain any number of items with different data types (integers, float, strings, etc.)"
   ]
  },
  {
   "cell_type": "code",
   "execution_count": null,
   "metadata": {
    "colab": {},
    "colab_type": "code",
    "id": "gwQgv6WkMu_X",
    "outputId": "4bae935d-cfaa-4fa7-8f4f-a770da6e9d35"
   },
   "outputs": [
    {
     "data": {
      "text/plain": [
       "[]"
      ]
     },
     "execution_count": 1,
     "metadata": {
      "tags": []
     },
     "output_type": "execute_result"
    }
   ],
   "source": [
    "# create an empty list\n",
    "empty_list = []\n",
    "empty_list"
   ]
  },
  {
   "cell_type": "markdown",
   "metadata": {
    "colab_type": "text",
    "id": "c_EEP9dGMu_t"
   },
   "source": [
    "Use the built-in list type object to create lists"
   ]
  },
  {
   "cell_type": "code",
   "execution_count": null,
   "metadata": {
    "colab": {},
    "colab_type": "code",
    "id": "qazFXWoYMu_3",
    "outputId": "9176d952-44c2-4bc4-f072-1450e980ddc0"
   },
   "outputs": [
    {
     "data": {
      "text/plain": [
       "[]"
      ]
     },
     "execution_count": 2,
     "metadata": {
      "tags": []
     },
     "output_type": "execute_result"
    }
   ],
   "source": [
    "# empty list\n",
    "empty_list = list()\n",
    "empty_list"
   ]
  },
  {
   "cell_type": "markdown",
   "metadata": {
    "colab_type": "text",
    "id": "vnBIF1t6MvAD"
   },
   "source": [
    "<table align=\"left\">\n",
    "    <tr>\n",
    "        <td width=\"7%\">\n",
    "            <img src=\"caution.png\">\n",
    "        </td>\n",
    "        <td>\n",
    "            <div align=\"left\", style=\"font-size:120%\">\n",
    "                <font color=\"#21618C\">\n",
    "                    <b>Note that python creates a single new list every time you use the [ ] expression\n",
    "                    </b>\n",
    "                </font>\n",
    "            </div>\n",
    "        </td>\n",
    "    </tr>\n",
    "</table>"
   ]
  },
  {
   "cell_type": "code",
   "execution_count": null,
   "metadata": {
    "colab": {},
    "colab_type": "code",
    "id": "kkIXG4TXMvAF"
   },
   "outputs": [],
   "source": [
    "list_1 = list_2 = [] # both names will point to the same list\n",
    "\n",
    "list_1 = []\n",
    "list_1 = list_2 # both names will point to the same list\n",
    "\n",
    "list_1 = []; list_2 = [] # independent lists"
   ]
  },
  {
   "cell_type": "markdown",
   "metadata": {
    "colab_type": "text",
    "id": "2HbS3jhgMvAS"
   },
   "source": [
    "**Note : A list can also hold another list as an element, these are called nested lists**"
   ]
  },
  {
   "cell_type": "code",
   "execution_count": null,
   "metadata": {
    "colab": {},
    "colab_type": "code",
    "id": "1tuHw3pyMvAV",
    "outputId": "0a9d67a3-0736-4562-868d-27318dd5fb05"
   },
   "outputs": [
    {
     "data": {
      "text/plain": [
       "[['Data Science', 'Machine Learning'], [135, 232, 321]]"
      ]
     },
     "execution_count": 4,
     "metadata": {
      "tags": []
     },
     "output_type": "execute_result"
    }
   ],
   "source": [
    "# nested list\n",
    "my_list = [['Data Science','Machine Learning'],[135,232,321]]\n",
    "my_list"
   ]
  },
  {
   "cell_type": "markdown",
   "metadata": {
    "colab_type": "text",
    "id": "4Vj-15hQMvAg"
   },
   "source": [
    "### Accessing Elements in a List\n",
    "You can access the list items by referring to the index number"
   ]
  },
  {
   "cell_type": "markdown",
   "metadata": {
    "colab_type": "text",
    "id": "Y-ggQFyZMvAj"
   },
   "source": [
    "**Indexing:**<br>\n",
    "Use the index operator [ ]. Each element in a list has an assigned index value. Note that the indexing in python starts from 0 and every index must be an integer"
   ]
  },
  {
   "cell_type": "markdown",
   "metadata": {
    "colab_type": "text",
    "id": "EXrQI9tXMvAl"
   },
   "source": [
    "Print the second item of the list"
   ]
  },
  {
   "cell_type": "code",
   "execution_count": null,
   "metadata": {
    "colab": {},
    "colab_type": "code",
    "id": "9Rdqy7fhMvAn",
    "outputId": "8ce8b5d3-9d9a-406c-f17c-ada0d2815f14"
   },
   "outputs": [
    {
     "name": "stdout",
     "output_type": "stream",
     "text": [
      "machine learning\n"
     ]
    }
   ],
   "source": [
    "# define a list\n",
    "course = ['data science', 'machine learning', 'python', 'html', 'big data' ]\n",
    "\n",
    "# access the second item of a list at index 1\n",
    "print(course[1])"
   ]
  },
  {
   "cell_type": "markdown",
   "metadata": {
    "colab_type": "text",
    "id": "hAqDI1QVMvA2"
   },
   "source": [
    "**Negative Indexing**:<br>\n",
    "Negative indexing means position count starts from the end of the list, -1 refers to the last item, -2 refers to the second last item"
   ]
  },
  {
   "cell_type": "markdown",
   "metadata": {
    "colab_type": "text",
    "id": "si5OlLmmMvA4"
   },
   "source": [
    "Print the second last item of the list"
   ]
  },
  {
   "cell_type": "code",
   "execution_count": null,
   "metadata": {
    "colab": {},
    "colab_type": "code",
    "id": "jpWatm4hMvA6",
    "outputId": "c1ce2964-0363-4087-dd8a-35fafa7bc7e8"
   },
   "outputs": [
    {
     "name": "stdout",
     "output_type": "stream",
     "text": [
      "html\n"
     ]
    }
   ],
   "source": [
    "# define a list\n",
    "course = ['data science', 'machine learning', 'python', 'html', 'big data' ]\n",
    "\n",
    "# access the second item of a list at index -2\n",
    "print(course[-2])"
   ]
  },
  {
   "cell_type": "markdown",
   "metadata": {
    "colab_type": "text",
    "id": "29sbl9vnMvBF"
   },
   "source": [
    "**Length of List:**<br>\n",
    "Use len() function to find total number of elements in a list"
   ]
  },
  {
   "cell_type": "code",
   "execution_count": null,
   "metadata": {
    "colab": {},
    "colab_type": "code",
    "id": "OXwlMIBtMvBH",
    "outputId": "68cc914a-aca8-405a-d9e3-f9743e876f55"
   },
   "outputs": [
    {
     "data": {
      "text/plain": [
       "5"
      ]
     },
     "execution_count": 7,
     "metadata": {
      "tags": []
     },
     "output_type": "execute_result"
    }
   ],
   "source": [
    "# define a list\n",
    "course = ['data science', 'machine learning', 'python', 'html', 'big data' ]\n",
    "\n",
    "# print the length of the list\n",
    "len(course)"
   ]
  },
  {
   "cell_type": "markdown",
   "metadata": {
    "colab_type": "text",
    "id": "KGbAwO5WMvBS"
   },
   "source": [
    "### Slicing of a List\n",
    "List uses the slicing operator : (colon) to extract part of the sequence"
   ]
  },
  {
   "cell_type": "markdown",
   "metadata": {
    "colab_type": "text",
    "id": "JBbuSE_gMvBU"
   },
   "source": [
    "Return first three elements from the list"
   ]
  },
  {
   "cell_type": "code",
   "execution_count": null,
   "metadata": {
    "colab": {},
    "colab_type": "code",
    "id": "xX1zWrVSMvBY",
    "outputId": "e873103f-e663-46ea-d97d-e916bc35c059"
   },
   "outputs": [
    {
     "data": {
      "text/plain": [
       "['data science', 'machine learning', 'python']"
      ]
     },
     "execution_count": 8,
     "metadata": {
      "tags": []
     },
     "output_type": "execute_result"
    }
   ],
   "source": [
    "# define a list\n",
    "course = ['data science', 'machine learning', 'python', 'html', 'big data' ]\n",
    "\n",
    "# print first three element from the list\n",
    "course[:3]"
   ]
  },
  {
   "cell_type": "markdown",
   "metadata": {
    "colab_type": "text",
    "id": "Hl1ISfB1MvBp"
   },
   "source": [
    "Return last three elements from the list"
   ]
  },
  {
   "cell_type": "code",
   "execution_count": null,
   "metadata": {
    "colab": {},
    "colab_type": "code",
    "id": "xu5wShpGMvBt",
    "outputId": "d2ea807e-75f6-4688-94b0-1396391da58e"
   },
   "outputs": [
    {
     "data": {
      "text/plain": [
       "['python', 'html', 'big data']"
      ]
     },
     "execution_count": 9,
     "metadata": {
      "tags": []
     },
     "output_type": "execute_result"
    }
   ],
   "source": [
    "# define a list\n",
    "course = ['data science', 'machine learning', 'python', 'html', 'big data' ]\n",
    "\n",
    "# print last three element from the list\n",
    "course[2:]"
   ]
  },
  {
   "cell_type": "markdown",
   "metadata": {
    "colab_type": "text",
    "id": "arPvAcYNMvB6"
   },
   "source": [
    "Select elements from beginning to end"
   ]
  },
  {
   "cell_type": "code",
   "execution_count": null,
   "metadata": {
    "colab": {},
    "colab_type": "code",
    "id": "PdT9JwHhMvB7",
    "outputId": "13dacb73-c636-4a41-998e-17135685564d"
   },
   "outputs": [
    {
     "data": {
      "text/plain": [
       "['data science', 'machine learning', 'python', 'html', 'big data']"
      ]
     },
     "execution_count": 10,
     "metadata": {
      "tags": []
     },
     "output_type": "execute_result"
    }
   ],
   "source": [
    "# define a list\n",
    "course = ['data science', 'machine learning', 'python', 'html', 'big data' ]\n",
    "\n",
    "# print the all elements\n",
    "course[:]"
   ]
  },
  {
   "cell_type": "markdown",
   "metadata": {
    "colab_type": "text",
    "id": "NCO4MdVjMvCF"
   },
   "source": [
    "Select first four elements"
   ]
  },
  {
   "cell_type": "code",
   "execution_count": null,
   "metadata": {
    "colab": {},
    "colab_type": "code",
    "id": "vOtDfba6MvCH",
    "outputId": "7e669fd2-4b4c-42c2-b378-93b7d14cccd9"
   },
   "outputs": [
    {
     "data": {
      "text/plain": [
       "['data science', 'machine learning', 'python', 'html']"
      ]
     },
     "execution_count": 11,
     "metadata": {
      "tags": []
     },
     "output_type": "execute_result"
    }
   ],
   "source": [
    "# define a list\n",
    "course = ['data science', 'machine learning', 'python', 'html', 'big data' ]\n",
    "\n",
    "# print first four elements\n",
    "course[0:4]"
   ]
  },
  {
   "cell_type": "markdown",
   "metadata": {
    "colab_type": "text",
    "id": "_4qE_54iMvCR"
   },
   "source": [
    "If all three 'start', 'stop', and 'step' are provided, it generates portion of sequence beginning from 'start' till 'stop' with increment of 'step'"
   ]
  },
  {
   "cell_type": "code",
   "execution_count": null,
   "metadata": {
    "colab": {},
    "colab_type": "code",
    "id": "O_7zn-_gMvCT",
    "outputId": "08d3f8f8-b545-4a4b-92ce-f05a06817eb5"
   },
   "outputs": [
    {
     "name": "stdout",
     "output_type": "stream",
     "text": [
      "[3, 5, 7]\n"
     ]
    }
   ],
   "source": [
    "a = [1,2,3,4,5,6,7,8,9,10]\n",
    "print(a[2:7:2])"
   ]
  },
  {
   "cell_type": "code",
   "execution_count": null,
   "metadata": {
    "colab": {},
    "colab_type": "code",
    "id": "NahuIOTBMvCf",
    "outputId": "9ecc0a4e-a86f-41b0-e995-2e3290828f38"
   },
   "outputs": [
    {
     "name": "stdout",
     "output_type": "stream",
     "text": [
      "[8, 6, 4, 2]\n"
     ]
    }
   ],
   "source": [
    "a = [1,2,3,4,5,6,7,8,9,10]\n",
    "print(a[7:0:-2])"
   ]
  },
  {
   "cell_type": "markdown",
   "metadata": {
    "colab_type": "text",
    "id": "iCGahWMHMvCo"
   },
   "source": [
    "### Change Item Value\n",
    "Refer to the index number to change the value of a specific item"
   ]
  },
  {
   "cell_type": "code",
   "execution_count": null,
   "metadata": {
    "colab": {},
    "colab_type": "code",
    "id": "WxS-StcYMvCq",
    "outputId": "d7ae6127-5683-4f63-9462-6c6265337a40"
   },
   "outputs": [
    {
     "data": {
      "text/plain": [
       "['data science', 'machine learning', 'python', 'statistics', 'big data']"
      ]
     },
     "execution_count": 14,
     "metadata": {
      "tags": []
     },
     "output_type": "execute_result"
    }
   ],
   "source": [
    "# define a list\n",
    "course = ['data science', 'machine learning', 'python', 'html', 'big data' ]\n",
    "\n",
    "# change the third item\n",
    "course[3] = 'statistics'\n",
    "\n",
    "course"
   ]
  },
  {
   "cell_type": "markdown",
   "metadata": {
    "colab_type": "text",
    "id": "poGqfPalMvC-"
   },
   "source": [
    "### List Methods\n",
    "Python has in-built methods that you can use on lists and arrays"
   ]
  },
  {
   "cell_type": "markdown",
   "metadata": {
    "colab_type": "text",
    "id": "d4SutkaOMvDA"
   },
   "source": [
    "<table align=\"left\">\n",
    "    <tr>\n",
    "        <td width=\"7%\">\n",
    "            <img src=\"caution.png\">\n",
    "        </td>\n",
    "        <td>\n",
    "            <div align=\"left\", style=\"font-size:120%\">\n",
    "                <font color=\"#21618C\">\n",
    "                    <b>Python does not have built-in support for arrays, but python lists can be in place of arrays\n",
    "                    </b>\n",
    "                </font>\n",
    "            </div>\n",
    "        </td>\n",
    "    </tr>\n",
    "</table>"
   ]
  },
  {
   "cell_type": "markdown",
   "metadata": {
    "colab_type": "text",
    "id": "ODSOCTFYMvDC"
   },
   "source": [
    "Python has built-in methods that you can use on list:<br>\n",
    "append()<br>\n",
    "insert()<br>\n",
    "extend()<br>\n",
    "sort()<br>\n",
    "del <br>\n",
    "clear()<br>\n",
    "remove()<br>\n",
    "pop()<br>\n",
    "reverse()<br>"
   ]
  },
  {
   "cell_type": "markdown",
   "metadata": {
    "colab_type": "text",
    "id": "XcntWkcwMvDD"
   },
   "source": [
    "**list.append(item)**<br>\n",
    "The method list.append(item) will add the element at the end of a list"
   ]
  },
  {
   "cell_type": "code",
   "execution_count": null,
   "metadata": {
    "colab": {},
    "colab_type": "code",
    "id": "lNPsdwExMvDF",
    "outputId": "287eebe1-b6eb-4439-c0b6-d4839c407a10"
   },
   "outputs": [
    {
     "data": {
      "text/plain": [
       "['data science',\n",
       " 'machine learning',\n",
       " 'python',\n",
       " 'html',\n",
       " 'big data',\n",
       " ['statistics']]"
      ]
     },
     "execution_count": 15,
     "metadata": {
      "tags": []
     },
     "output_type": "execute_result"
    }
   ],
   "source": [
    "# define a list\n",
    "course1 = ['data science', 'machine learning', 'python', 'html', 'big data' ]\n",
    "\n",
    "course2 = ['statistics']\n",
    "\n",
    "# add element to the list\n",
    "course1.append(course2)\n",
    "course1"
   ]
  },
  {
   "cell_type": "markdown",
   "metadata": {
    "colab_type": "text",
    "id": "NhawKzOIMvDP"
   },
   "source": [
    "**list.insert(i, item)**<br>\n",
    "This method will insert an element at the $i^{th}$ index in a list"
   ]
  },
  {
   "cell_type": "code",
   "execution_count": null,
   "metadata": {
    "colab": {},
    "colab_type": "code",
    "id": "eWtxoQeCMvDQ",
    "outputId": "a78713ea-eb7c-433d-9ee2-c867b7443938"
   },
   "outputs": [
    {
     "data": {
      "text/plain": [
       "['data science',\n",
       " 'machine learning',\n",
       " 'statistics',\n",
       " 'python',\n",
       " 'html',\n",
       " 'big data']"
      ]
     },
     "execution_count": 16,
     "metadata": {
      "tags": []
     },
     "output_type": "execute_result"
    }
   ],
   "source": [
    "# define a list\n",
    "course = ['data science', 'machine learning', 'python', 'html', 'big data' ]\n",
    "\n",
    "# insert element at 2nd index in a list\n",
    "course.insert(2, 'statistics')\n",
    "course"
   ]
  },
  {
   "cell_type": "markdown",
   "metadata": {
    "colab_type": "text",
    "id": "-1G8u67aMvDZ"
   },
   "source": [
    "**list.extend(items)**<br>\n",
    "The extend method concatenates lists"
   ]
  },
  {
   "cell_type": "code",
   "execution_count": null,
   "metadata": {
    "colab": {},
    "colab_type": "code",
    "id": "1E0hTFGbMvDc",
    "outputId": "48d9d7c7-2dac-4e88-fa12-79418fecdc26"
   },
   "outputs": [
    {
     "data": {
      "text/plain": [
       "['data science',\n",
       " 'machine learning',\n",
       " 'python',\n",
       " 'html',\n",
       " 'big data',\n",
       " 'artificial intelligence']"
      ]
     },
     "execution_count": 17,
     "metadata": {
      "tags": []
     },
     "output_type": "execute_result"
    }
   ],
   "source": [
    "# define a first list\n",
    "course1 = ['data science', 'machine learning', 'python', 'html', 'big data']\n",
    "\n",
    "# define a second list\n",
    "course2 = ['artificial intelligence']\n",
    "\n",
    "# concatenate the list\n",
    "course1.extend(course2)\n",
    "\n",
    "course1"
   ]
  },
  {
   "cell_type": "markdown",
   "metadata": {
    "colab_type": "text",
    "id": "sp1bO_UuMvDl"
   },
   "source": [
    "**list.sort(key, reverse)**<br>\n",
    "The sort method sorts a list in-place without creating a new object"
   ]
  },
  {
   "cell_type": "code",
   "execution_count": null,
   "metadata": {
    "colab": {},
    "colab_type": "code",
    "id": "OTBztmZFMvDn",
    "outputId": "5f0c24f9-3068-4c87-da34-7213cf6070af"
   },
   "outputs": [
    {
     "data": {
      "text/plain": [
       "[2500, 5000, 10000, 17500, 20000, 25000, 50000]"
      ]
     },
     "execution_count": 18,
     "metadata": {
      "tags": []
     },
     "output_type": "execute_result"
    }
   ],
   "source": [
    "# declare a numeric list\n",
    "income = [2500, 25000, 10000, 50000, 20000, 5000, 17500]\n",
    "# sort() function is used to sort the numeric values in the list in ascending order\n",
    "income.sort()\n",
    "income"
   ]
  },
  {
   "cell_type": "code",
   "execution_count": null,
   "metadata": {
    "colab": {},
    "colab_type": "code",
    "id": "_t7auygSMvD3",
    "outputId": "436a3da0-22cf-4a48-b418-34662afc9333"
   },
   "outputs": [
    {
     "data": {
      "text/plain": [
       "[50000, 25000, 20000, 17500, 10000, 5000, 2500]"
      ]
     },
     "execution_count": 19,
     "metadata": {
      "tags": []
     },
     "output_type": "execute_result"
    }
   ],
   "source": [
    "# set the reverse parameter to False to arrange the elements in the descending order\n",
    "income.sort(reverse = True)\n",
    "income"
   ]
  },
  {
   "cell_type": "code",
   "execution_count": null,
   "metadata": {
    "colab": {},
    "colab_type": "code",
    "id": "GQwYfANKMvEC",
    "outputId": "95436e80-57c9-4511-bd01-bafca4350408"
   },
   "outputs": [
    {
     "data": {
      "text/plain": [
       "['a', 'fox', 'the', 'over', 'lazy', 'frog', 'quick', 'brown', 'jumps']"
      ]
     },
     "execution_count": 20,
     "metadata": {
      "tags": []
     },
     "output_type": "execute_result"
    }
   ],
   "source": [
    "# We can also sort a collection of strings by their length using the key parameter\n",
    "sentence = ['a', 'quick', 'brown', 'fox', 'jumps', 'over', 'the', 'lazy', 'frog']\n",
    "sentence.sort(key = len)\n",
    "sentence"
   ]
  },
  {
   "cell_type": "markdown",
   "metadata": {
    "colab_type": "text",
    "id": "4ThC5PQhMvER"
   },
   "source": [
    "**Deleting List Elements**<br>\n",
    "Use the del keyword to delete an item at specific index"
   ]
  },
  {
   "cell_type": "code",
   "execution_count": null,
   "metadata": {
    "colab": {},
    "colab_type": "code",
    "id": "3xjDLBlzMvES",
    "outputId": "03aec76e-dc90-40a8-edd0-6d57a00ec82f"
   },
   "outputs": [
    {
     "data": {
      "text/plain": [
       "['data science', 'machine learning', 'html', 'big data']"
      ]
     },
     "execution_count": 21,
     "metadata": {
      "tags": []
     },
     "output_type": "execute_result"
    }
   ],
   "source": [
    "# define a first list\n",
    "course = ['data science', 'machine learning', 'python', 'html', 'big data' ]\n",
    "\n",
    "# delete the third element from the list\n",
    "del course[2]\n",
    "\n",
    "# print the output\n",
    "course"
   ]
  },
  {
   "cell_type": "code",
   "execution_count": null,
   "metadata": {
    "colab": {},
    "colab_type": "code",
    "id": "WRfkHYHzMvEa",
    "outputId": "38045734-c524-41d0-beaa-4164ee893900"
   },
   "outputs": [
    {
     "data": {
      "text/plain": [
       "['python', 'html', 'big data']"
      ]
     },
     "execution_count": 22,
     "metadata": {
      "tags": []
     },
     "output_type": "execute_result"
    }
   ],
   "source": [
    "# define a first list\n",
    "course = ['data science', 'machine learning', 'python', 'html', 'big data' ]\n",
    "\n",
    "# delete multiple items from the list\n",
    "del course[0:2]\n",
    "\n",
    "# print the output\n",
    "course"
   ]
  },
  {
   "cell_type": "markdown",
   "metadata": {
    "colab_type": "text",
    "id": "hbP046vOMvEk"
   },
   "source": [
    "**list.clear()**\n",
    "<br>The clear method resets the list to an empty state"
   ]
  },
  {
   "cell_type": "code",
   "execution_count": null,
   "metadata": {
    "colab": {},
    "colab_type": "code",
    "id": "zpOCD-nUMvEl",
    "outputId": "b22a3925-1a85-49f8-8dc5-0308c4798f33"
   },
   "outputs": [
    {
     "data": {
      "text/plain": [
       "[]"
      ]
     },
     "execution_count": 2,
     "metadata": {
      "tags": []
     },
     "output_type": "execute_result"
    }
   ],
   "source": [
    "sentence = ['a', 'quick', 'brown', 'fox', 'jumps', 'over', 'the', 'lazy', 'frog']\n",
    "sentence.clear()\n",
    "sentence"
   ]
  },
  {
   "cell_type": "markdown",
   "metadata": {
    "colab_type": "text",
    "id": "rp6Ze_LlMvEv"
   },
   "source": [
    "**list.remove(item)**<br>\n",
    "It will search and remove only the first occurrence of an item"
   ]
  },
  {
   "cell_type": "code",
   "execution_count": null,
   "metadata": {
    "colab": {},
    "colab_type": "code",
    "id": "54lS8_AtMvEx",
    "outputId": "ce1fb886-dd4b-47c2-a43e-337d81503994"
   },
   "outputs": [
    {
     "data": {
      "text/plain": [
       "['data science', 'machine learning', 'python', 'big data', 'html']"
      ]
     },
     "execution_count": 24,
     "metadata": {
      "tags": []
     },
     "output_type": "execute_result"
    }
   ],
   "source": [
    "# define a first list\n",
    "course = ['data science', 'machine learning', 'python', 'html', 'big data', 'html' ]\n",
    "\n",
    "course.remove('html')\n",
    "\n",
    "course"
   ]
  },
  {
   "cell_type": "markdown",
   "metadata": {
    "colab_type": "text",
    "id": "F33XrGkLMvE6"
   },
   "source": [
    "**list.pop()**<br>\n",
    "Removes and returns the last item of a list"
   ]
  },
  {
   "cell_type": "code",
   "execution_count": null,
   "metadata": {
    "colab": {},
    "colab_type": "code",
    "id": "4X2L0lHJMvE7",
    "outputId": "ef96d3ea-7841-433d-d24e-6a161ed1a5ae"
   },
   "outputs": [
    {
     "data": {
      "text/plain": [
       "'html'"
      ]
     },
     "execution_count": 25,
     "metadata": {
      "tags": []
     },
     "output_type": "execute_result"
    }
   ],
   "source": [
    "# define a first list\n",
    "course = ['data science', 'machine learning', 'python', 'html', 'big data', 'html' ]\n",
    "\n",
    "course.pop()"
   ]
  },
  {
   "cell_type": "markdown",
   "metadata": {
    "colab_type": "text",
    "id": "jZKSoD5gMvFH"
   },
   "source": [
    "**list.reverse()**<br>\n",
    "It reverses the order of the items in a list"
   ]
  },
  {
   "cell_type": "code",
   "execution_count": null,
   "metadata": {
    "colab": {},
    "colab_type": "code",
    "id": "u3lNajpuMvFK",
    "outputId": "959c5af1-aa3d-43ca-abcc-05e2de906481"
   },
   "outputs": [
    {
     "data": {
      "text/plain": [
       "['html', 'big data', 'html', 'python', 'machine learning', 'data science']"
      ]
     },
     "execution_count": 26,
     "metadata": {
      "tags": []
     },
     "output_type": "execute_result"
    }
   ],
   "source": [
    "# define a first list\n",
    "course = ['data science', 'machine learning', 'python', 'html', 'big data', 'html' ]\n",
    "\n",
    "course.reverse()\n",
    "\n",
    "course"
   ]
  },
  {
   "cell_type": "markdown",
   "metadata": {
    "colab_type": "text",
    "id": "r90h1hnvMvFT"
   },
   "source": [
    "### Common List Operations"
   ]
  },
  {
   "cell_type": "markdown",
   "metadata": {
    "colab_type": "text",
    "id": "tg2vYGmBMvFV"
   },
   "source": [
    "**Concatenation(+)**<br>\n",
    "The '+' operator is used to combine i.e. concatenate two lists"
   ]
  },
  {
   "cell_type": "code",
   "execution_count": null,
   "metadata": {
    "colab": {},
    "colab_type": "code",
    "id": "fCBvVu0MMvFX",
    "outputId": "35b57836-42d4-4588-dca0-3553d3402e71"
   },
   "outputs": [
    {
     "data": {
      "text/plain": [
       "['data science',\n",
       " 'machine learning',\n",
       " 'python',\n",
       " 'html',\n",
       " 'big data',\n",
       " 'artificial intelligence']"
      ]
     },
     "execution_count": 27,
     "metadata": {
      "tags": []
     },
     "output_type": "execute_result"
    }
   ],
   "source": [
    "# define a first list\n",
    "course1 = ['data science', 'machine learning', 'python', 'html', 'big data' ]\n",
    "\n",
    "# define a second list\n",
    "course2 = ['artificial intelligence']\n",
    "\n",
    "# concatenate the list\n",
    "course1 + course2"
   ]
  },
  {
   "cell_type": "markdown",
   "metadata": {
    "colab_type": "text",
    "id": "tZJOoEGvMvFf"
   },
   "source": [
    "**Repetition(*)**<br>\n",
    "\n",
    "The <b>' * '</b> operator is used to repeat a list 'n' number of times. The 'n' is specified by the user <br>\n",
    "<b>Note: 'n' should be positive</b>"
   ]
  },
  {
   "cell_type": "code",
   "execution_count": null,
   "metadata": {
    "colab": {},
    "colab_type": "code",
    "id": "XluiR8paMvFh",
    "outputId": "07e578ec-05df-4262-ad34-bbd92fe4be94"
   },
   "outputs": [
    {
     "data": {
      "text/plain": [
       "['data science',\n",
       " 'machine learning',\n",
       " 'python',\n",
       " 'html',\n",
       " 'big data',\n",
       " 'data science',\n",
       " 'machine learning',\n",
       " 'python',\n",
       " 'html',\n",
       " 'big data']"
      ]
     },
     "execution_count": 28,
     "metadata": {
      "tags": []
     },
     "output_type": "execute_result"
    }
   ],
   "source": [
    "# define a first list\n",
    "course1 = ['data science', 'machine learning', 'python', 'html', 'big data' ]\n",
    "\n",
    "course1*2"
   ]
  },
  {
   "cell_type": "markdown",
   "metadata": {
    "colab_type": "text",
    "id": "qvV0GbunMvFr"
   },
   "source": [
    "<a id=\"tuple\"> </a>\n",
    "## 2. Introduction to Tuple\n",
    "<table align=\"left\">\n",
    "    <tr>\n",
    "        <td width=\"15%\">\n",
    "            <img src=\"note.png\">\n",
    "        </td>\n",
    "        <td>\n",
    "            <div align=\"left\", style=\"font-size:120%\">\n",
    "                <font color=\"#21618C\">\n",
    "                    <b>A tuple is a collection of elements which are ordered. A tuple once defined cannot be modified.<br><br>\n",
    "                    Tuples with elements is created by elements separated by comma surrounding round brackets.  Its actually Trailing commas that define a tuple not parentheses. Round brackets are required incase of ambiguity.\n",
    "                    <br><br>\n",
    "                    To iterate over the items of a tuple is faster compared to iterating over a list.<br>\n",
    "                    </b>\n",
    "                </font>\n",
    "            </div>\n",
    "        </td>\n",
    "    </tr>\n",
    "</table>"
   ]
  },
  {
   "cell_type": "markdown",
   "metadata": {
    "colab_type": "text",
    "id": "hPPNLsuxMvFt"
   },
   "source": [
    "### Creating Tuple\n",
    "Here, we are creating few tuples"
   ]
  },
  {
   "cell_type": "code",
   "execution_count": null,
   "metadata": {
    "colab": {},
    "colab_type": "code",
    "id": "BmE0OkoLMvFv",
    "outputId": "ba35c054-33bc-44dc-fba2-e49951d32da8"
   },
   "outputs": [
    {
     "name": "stdout",
     "output_type": "stream",
     "text": [
      "('hello', 'python', 'hello', 'world')\n"
     ]
    }
   ],
   "source": [
    "# tuple of strings\n",
    "my_tuple = (\"hello\", \"python\", \"hello\", \"world\")\n",
    "print(my_tuple)"
   ]
  },
  {
   "cell_type": "code",
   "execution_count": null,
   "metadata": {
    "colab": {},
    "colab_type": "code",
    "id": "QPh1rMRaMvF5",
    "outputId": "79f075ec-a242-468c-ca03-a6563bffc993"
   },
   "outputs": [
    {
     "name": "stdout",
     "output_type": "stream",
     "text": [
      "(123, 2.228, 'hello python')\n"
     ]
    }
   ],
   "source": [
    "# tuple of int, float, string\n",
    "my_tuple = (123, 2.228, \"hello python\")\n",
    "print(my_tuple)"
   ]
  },
  {
   "cell_type": "code",
   "execution_count": null,
   "metadata": {
    "colab": {},
    "colab_type": "code",
    "id": "UWde6t5CMvGH",
    "outputId": "9513f11f-84fe-4d8e-dcde-fcc62e5a3b32"
   },
   "outputs": [
    {
     "name": "stdout",
     "output_type": "stream",
     "text": [
      "('python', [12, 12, 31])\n"
     ]
    }
   ],
   "source": [
    "# tuple of string and list\n",
    "my_tuple = (\"python\", [12, 12, 31])\n",
    "print(my_tuple)"
   ]
  },
  {
   "cell_type": "code",
   "execution_count": null,
   "metadata": {
    "colab": {},
    "colab_type": "code",
    "id": "5cZLhcwiMvGR",
    "outputId": "eb1cf342-59d2-4efb-f018-827f422c4f21"
   },
   "outputs": [
    {
     "name": "stdout",
     "output_type": "stream",
     "text": [
      "((2546, 332, 421), ('python', 63.1, 'hi'))\n"
     ]
    }
   ],
   "source": [
    "# tuples inside another tuple\n",
    "# nested tuple\n",
    "my_tuple = ((2546, 332, 421), (\"python\", 63.1, \"hi\"))\n",
    "print(my_tuple)"
   ]
  },
  {
   "cell_type": "markdown",
   "metadata": {
    "colab_type": "text",
    "id": "MbrVo1YLMvGZ"
   },
   "source": [
    "### Access Tuple Elements\n",
    "Use indices to access the items of a tuple"
   ]
  },
  {
   "cell_type": "code",
   "execution_count": null,
   "metadata": {
    "colab": {},
    "colab_type": "code",
    "id": "RoztYEPeMvGb",
    "outputId": "4d515cf4-09bc-44bb-99f9-0fabd3f4974c"
   },
   "outputs": [
    {
     "data": {
      "text/plain": [
       "'yellow'"
      ]
     },
     "execution_count": 33,
     "metadata": {
      "tags": []
     },
     "output_type": "execute_result"
    }
   ],
   "source": [
    "# tuple of strings\n",
    "my_tuple = (\"mango\", \"yellow\", \"green\", \"blue\")\n",
    "\n",
    "# access the second element from the list\n",
    "my_tuple[1]"
   ]
  },
  {
   "cell_type": "markdown",
   "metadata": {
    "colab_type": "text",
    "id": "mNiBiEDGMvGv"
   },
   "source": [
    "**Negative Indexing**<br>\n",
    "In Negative indexing position counting starts from the end, -1 refers to the last element, -2 refers to the second last element of the tuple"
   ]
  },
  {
   "cell_type": "code",
   "execution_count": null,
   "metadata": {
    "colab": {},
    "colab_type": "code",
    "id": "pi_ItPWgMvGy",
    "outputId": "653efb50-7af1-4f6a-f3e0-a75741165c63"
   },
   "outputs": [
    {
     "data": {
      "text/plain": [
       "'blue'"
      ]
     },
     "execution_count": 34,
     "metadata": {
      "tags": []
     },
     "output_type": "execute_result"
    }
   ],
   "source": [
    "# tuple of strings\n",
    "my_tuple = (\"mango\", \"yellow\", \"green\", \"blue\")\n",
    "\n",
    "# print last item of the tuple\n",
    "my_tuple[-1]"
   ]
  },
  {
   "cell_type": "markdown",
   "metadata": {
    "colab_type": "text",
    "id": "V8JW-ApfMvHF"
   },
   "source": [
    "**Range of Indices**<br>\n",
    "Specify a range of indices by specifying the start and the end of the range.\n",
    "When specifying a range, the output will be a new tuple with the specified items"
   ]
  },
  {
   "cell_type": "code",
   "execution_count": null,
   "metadata": {
    "colab": {},
    "colab_type": "code",
    "id": "u3kLhVhNMvHL",
    "outputId": "8e7e5f9d-8e91-4b98-b5e0-d221000fb410"
   },
   "outputs": [
    {
     "data": {
      "text/plain": [
       "('blue', 353)"
      ]
     },
     "execution_count": 35,
     "metadata": {
      "tags": []
     },
     "output_type": "execute_result"
    }
   ],
   "source": [
    "# define the tuple\n",
    "my_tuple = (\"mango\", \"yellow\", \"green\", \"blue\", 353, 363.2, 'w')\n",
    "\n",
    "# return fourth and fifth element from the list\n",
    "my_tuple[3:5]"
   ]
  },
  {
   "cell_type": "markdown",
   "metadata": {
    "colab_type": "text",
    "id": "zxymMb9ZMvHi"
   },
   "source": [
    "**Range of Negative Indices**<br>\n",
    "Specify negative indices to start the search from the end of the tuple"
   ]
  },
  {
   "cell_type": "code",
   "execution_count": null,
   "metadata": {
    "colab": {},
    "colab_type": "code",
    "id": "wHWKdy4tMvHq",
    "outputId": "052d52ea-968a-4994-b118-ed512416959a"
   },
   "outputs": [
    {
     "data": {
      "text/plain": [
       "(353, 363.2)"
      ]
     },
     "execution_count": 36,
     "metadata": {
      "tags": []
     },
     "output_type": "execute_result"
    }
   ],
   "source": [
    "# define the tuple\n",
    "my_tuple = (\"mango\", \"yellow\", \"green\", \"blue\", 353, 363.2, 'w')\n",
    "\n",
    "# return the items from index -3 (included) to index -1 (excluded)\n",
    "my_tuple[-3:-1]"
   ]
  },
  {
   "cell_type": "markdown",
   "metadata": {
    "colab_type": "text",
    "id": "skNuBThzMvH6"
   },
   "source": [
    "### Change Tuple Values\n",
    "We cannot change the items of a tuple because items of tuple are immutable. However we can change the elements of nested items in a tuple that are mutable"
   ]
  },
  {
   "cell_type": "code",
   "execution_count": null,
   "metadata": {
    "colab": {},
    "colab_type": "code",
    "id": "eZvGHXqiMvIA",
    "outputId": "5bacc27a-a3ec-4e61-e4a0-7023fce86467"
   },
   "outputs": [
    {
     "name": "stdout",
     "output_type": "stream",
     "text": [
      "(123, ['s', 'a', 'v'], 'World')\n",
      "(123, ['s', 'a', 99], 'World')\n"
     ]
    }
   ],
   "source": [
    "my_tuple = (123, ['s', 'a', 'v'], \"World\")\n",
    "print(my_tuple)\n",
    "\n",
    "# changing the element of the list \n",
    "# this is valid because list is mutable\n",
    "my_tuple[1][2] = 99\n",
    "print(my_tuple)"
   ]
  },
  {
   "cell_type": "code",
   "execution_count": 1,
   "metadata": {
    "colab": {},
    "colab_type": "code",
    "id": "t2XWJqTGMvIV",
    "outputId": "bc2ff953-6058-4d51-ef11-c4ac26b3b57f"
   },
   "outputs": [
    {
     "ename": "TypeError",
     "evalue": "'tuple' object does not support item assignment",
     "output_type": "error",
     "traceback": [
      "\u001b[1;31m---------------------------------------------------------------------------\u001b[0m",
      "\u001b[1;31mTypeError\u001b[0m                                 Traceback (most recent call last)",
      "Cell \u001b[1;32mIn[1], line 6\u001b[0m\n\u001b[0;32m      2\u001b[0m my_tuple \u001b[38;5;241m=\u001b[39m (\u001b[38;5;124m\"\u001b[39m\u001b[38;5;124mmango\u001b[39m\u001b[38;5;124m\"\u001b[39m, \u001b[38;5;124m\"\u001b[39m\u001b[38;5;124myellow\u001b[39m\u001b[38;5;124m\"\u001b[39m, \u001b[38;5;124m\"\u001b[39m\u001b[38;5;124mgreen\u001b[39m\u001b[38;5;124m\"\u001b[39m, \u001b[38;5;124m\"\u001b[39m\u001b[38;5;124mblue\u001b[39m\u001b[38;5;124m\"\u001b[39m, \u001b[38;5;241m353\u001b[39m, \u001b[38;5;241m363.2\u001b[39m, \u001b[38;5;124m'\u001b[39m\u001b[38;5;124mw\u001b[39m\u001b[38;5;124m'\u001b[39m)\n\u001b[0;32m      4\u001b[0m \u001b[38;5;66;03m# changing the element of tuple\u001b[39;00m\n\u001b[0;32m      5\u001b[0m \u001b[38;5;66;03m# This throws an error since tuple elements are immutable\u001b[39;00m\n\u001b[1;32m----> 6\u001b[0m my_tuple[\u001b[38;5;241m0\u001b[39m] \u001b[38;5;241m=\u001b[39m \u001b[38;5;124m'\u001b[39m\u001b[38;5;124morange\u001b[39m\u001b[38;5;124m'\u001b[39m\n",
      "\u001b[1;31mTypeError\u001b[0m: 'tuple' object does not support item assignment"
     ]
    }
   ],
   "source": [
    "# define the tuple\n",
    "my_tuple = (\"mango\", \"yellow\", \"green\", \"blue\", 353, 363.2, 'w')\n",
    "\n",
    "# changing the element of tuple\n",
    "# This throws an error since tuple elements are immutable\n",
    "my_tuple[0] = 'orange'"
   ]
  },
  {
   "cell_type": "markdown",
   "metadata": {
    "colab_type": "text",
    "id": "Y56dywexMvIv"
   },
   "source": [
    "### Delete Operation on Tuple\n",
    "We already discussed above that we cannot delete the elements of a tuple. However deleting entire tuple is possible"
   ]
  },
  {
   "cell_type": "code",
   "execution_count": null,
   "metadata": {
    "colab": {},
    "colab_type": "code",
    "id": "j8MTw5DzMvIy",
    "outputId": "7f7f2e87-0165-40d0-8543-3894d326809b"
   },
   "outputs": [
    {
     "ename": "TypeError",
     "evalue": "'tuple' object doesn't support item deletion",
     "output_type": "error",
     "traceback": [
      "\u001b[1;31m---------------------------------------------------------------------------\u001b[0m",
      "\u001b[1;31mTypeError\u001b[0m                                 Traceback (most recent call last)",
      "\u001b[1;32m<ipython-input-3-4e3bdb66cdda>\u001b[0m in \u001b[0;36m<module>\u001b[1;34m\u001b[0m\n\u001b[0;32m      2\u001b[0m \u001b[0mmy_tuple\u001b[0m \u001b[1;33m=\u001b[0m \u001b[1;33m(\u001b[0m\u001b[1;34m\"mango\"\u001b[0m\u001b[1;33m,\u001b[0m \u001b[1;34m\"yellow\"\u001b[0m\u001b[1;33m,\u001b[0m \u001b[1;34m\"green\"\u001b[0m\u001b[1;33m,\u001b[0m \u001b[1;34m\"blue\"\u001b[0m\u001b[1;33m,\u001b[0m \u001b[1;36m353\u001b[0m\u001b[1;33m,\u001b[0m \u001b[1;36m363.2\u001b[0m\u001b[1;33m,\u001b[0m \u001b[1;34m'w'\u001b[0m\u001b[1;33m)\u001b[0m\u001b[1;33m\u001b[0m\u001b[1;33m\u001b[0m\u001b[0m\n\u001b[0;32m      3\u001b[0m \u001b[1;33m\u001b[0m\u001b[0m\n\u001b[1;32m----> 4\u001b[1;33m \u001b[1;32mdel\u001b[0m \u001b[0mmy_tuple\u001b[0m\u001b[1;33m[\u001b[0m\u001b[1;36m0\u001b[0m\u001b[1;33m]\u001b[0m\u001b[1;33m\u001b[0m\u001b[1;33m\u001b[0m\u001b[0m\n\u001b[0m",
      "\u001b[1;31mTypeError\u001b[0m: 'tuple' object doesn't support item deletion"
     ]
    }
   ],
   "source": [
    "# define the tuple\n",
    "my_tuple = (\"mango\", \"yellow\", \"green\", \"blue\", 353, 363.2, 'w')\n",
    "\n",
    "del my_tuple[0]"
   ]
  },
  {
   "cell_type": "code",
   "execution_count": null,
   "metadata": {
    "colab": {},
    "colab_type": "code",
    "id": "CAtrIFukMvI8",
    "outputId": "f7c9b672-c4ea-4f4f-cd61-2492388f4fec"
   },
   "outputs": [
    {
     "ename": "NameError",
     "evalue": "name 'my_tuple' is not defined",
     "output_type": "error",
     "traceback": [
      "\u001b[1;31m---------------------------------------------------------------------------\u001b[0m",
      "\u001b[1;31mNameError\u001b[0m                                 Traceback (most recent call last)",
      "\u001b[1;32m<ipython-input-4-5dadfa3cb5a3>\u001b[0m in \u001b[0;36m<module>\u001b[1;34m\u001b[0m\n\u001b[0;32m      2\u001b[0m \u001b[1;32mdel\u001b[0m \u001b[0mmy_tuple\u001b[0m\u001b[1;33m\u001b[0m\u001b[1;33m\u001b[0m\u001b[0m\n\u001b[0;32m      3\u001b[0m \u001b[1;33m\u001b[0m\u001b[0m\n\u001b[1;32m----> 4\u001b[1;33m \u001b[0mprint\u001b[0m\u001b[1;33m(\u001b[0m\u001b[0mmy_tuple\u001b[0m\u001b[1;33m)\u001b[0m\u001b[1;33m\u001b[0m\u001b[1;33m\u001b[0m\u001b[0m\n\u001b[0m",
      "\u001b[1;31mNameError\u001b[0m: name 'my_tuple' is not defined"
     ]
    }
   ],
   "source": [
    "# deleting entire tuple is possible\n",
    "del my_tuple\n",
    "\n",
    "print(my_tuple)"
   ]
  },
  {
   "cell_type": "markdown",
   "metadata": {
    "colab_type": "text",
    "id": "zIEKUEqqMvJF"
   },
   "source": [
    "### Tuple Methods"
   ]
  },
  {
   "cell_type": "markdown",
   "metadata": {
    "colab_type": "text",
    "id": "uNagZDxzMvJH"
   },
   "source": [
    "Python has built-in methods which can be used on tuples:<br>\n",
    "count()<br>\n",
    "index()<br>"
   ]
  },
  {
   "cell_type": "markdown",
   "metadata": {
    "colab_type": "text",
    "id": "6vW7KZ7mMvJM"
   },
   "source": [
    "**count()**<br>\n",
    "It returns the number of times a specified element occurs in a tuple"
   ]
  },
  {
   "cell_type": "code",
   "execution_count": null,
   "metadata": {
    "colab": {},
    "colab_type": "code",
    "id": "BeKwDQoXMvJQ",
    "outputId": "4ca44e91-2dc6-4436-f34a-8132e1003b28"
   },
   "outputs": [
    {
     "data": {
      "text/plain": [
       "4"
      ]
     },
     "execution_count": 41,
     "metadata": {
      "tags": []
     },
     "output_type": "execute_result"
    }
   ],
   "source": [
    "my_tuple = ('a','p','p','l','e','e','d','e', 'd','e','a','c','w')\n",
    "my_tuple.count('e')"
   ]
  },
  {
   "cell_type": "markdown",
   "metadata": {
    "colab_type": "text",
    "id": "4JLvxhawMvJi"
   },
   "source": [
    "**index()**<br>\n",
    "It searches the tuple for the first occurance of a specified element and returns the index value for that particular position"
   ]
  },
  {
   "cell_type": "code",
   "execution_count": 2,
   "metadata": {
    "colab": {},
    "colab_type": "code",
    "id": "oMcLU4FwMvJj",
    "outputId": "fd87d2a5-403c-48e8-9a9d-00d723cc606f"
   },
   "outputs": [
    {
     "data": {
      "text/plain": [
       "1"
      ]
     },
     "execution_count": 2,
     "metadata": {},
     "output_type": "execute_result"
    }
   ],
   "source": [
    "my_tuple = ('a','p','p','l','e','e','d','e', 'd','e','a','c','w')\n",
    "my_tuple.index('p')"
   ]
  },
  {
   "cell_type": "markdown",
   "metadata": {
    "colab_type": "text",
    "id": "HXCnVTshMvJr"
   },
   "source": [
    "<a id=\"dictionary\"> </a>\n",
    "## 3. Introduction to Dictionary\n",
    "<table align=\"left\">\n",
    "    <tr>\n",
    "        <td width=\"15%\">\n",
    "            <img src=\"note.png\">\n",
    "        </td>\n",
    "        <td>\n",
    "            <div align=\"left\", style=\"font-size:120%\">\n",
    "                <font color=\"#21618C\">\n",
    "                    <b>Python dictionary is an unordered collection of elements.\n",
    "                    It map keys to values and these key-value pairs provide a useful way to store data in python.<br>\n",
    "                    </b>\n",
    "                </font>\n",
    "            </div>\n",
    "        </td>\n",
    "    </tr>\n",
    "</table>"
   ]
  },
  {
   "cell_type": "markdown",
   "metadata": {
    "colab_type": "text",
    "collapsed": true,
    "id": "DoaRX025MvJt"
   },
   "source": [
    "**Syntax:**<br>\n",
    "dictionary_name = {&nbsp;key_1: value_1,<br>\n",
    "&nbsp;&nbsp;&nbsp;&nbsp;&nbsp;&nbsp;&nbsp;&nbsp;&nbsp;&nbsp;&nbsp;&nbsp;&nbsp;&nbsp;&nbsp;&nbsp;&nbsp;&nbsp;&nbsp;&nbsp;&nbsp;&nbsp;&nbsp;&nbsp;&nbsp;&nbsp;&nbsp;&nbsp;&nbsp;&nbsp;&nbsp;&nbsp;                   key_2: value_2,<br>\n",
    "&nbsp;&nbsp;&nbsp;&nbsp;&nbsp;&nbsp;&nbsp;&nbsp;&nbsp;&nbsp;&nbsp;&nbsp;&nbsp;&nbsp;&nbsp;&nbsp;&nbsp;&nbsp;&nbsp;&nbsp;&nbsp;&nbsp;&nbsp;&nbsp;&nbsp;&nbsp;&nbsp;&nbsp;&nbsp;&nbsp;&nbsp;&nbsp;                    key_3: value_3,<br>\n",
    "&nbsp;&nbsp;&nbsp;&nbsp;&nbsp;&nbsp;&nbsp;&nbsp;&nbsp;&nbsp;&nbsp;&nbsp;&nbsp;&nbsp;&nbsp;&nbsp;&nbsp;&nbsp;&nbsp;&nbsp;&nbsp;&nbsp;&nbsp;&nbsp;&nbsp;&nbsp;&nbsp;&nbsp;&nbsp;&nbsp;&nbsp;&nbsp;                    }"
   ]
  },
  {
   "cell_type": "markdown",
   "metadata": {
    "colab_type": "text",
    "collapsed": true,
    "id": "P8za5JoIMvJu"
   },
   "source": [
    "### Create Dictionary\n",
    "Separate keys from values with a colon(:), and a pair from another by a comma(,). Put it all in curly braces"
   ]
  },
  {
   "cell_type": "code",
   "execution_count": null,
   "metadata": {
    "colab": {},
    "colab_type": "code",
    "id": "lWf1db0ZMvJw",
    "outputId": "afd6740b-03df-4ed6-8452-236516ac5483"
   },
   "outputs": [
    {
     "name": "stdout",
     "output_type": "stream",
     "text": [
      "{'Mia': 83847, 'John': 83837, 'Jill': 94766}\n"
     ]
    }
   ],
   "source": [
    "# create dictionary\n",
    "balance = {\n",
    "    \"Mia\" : 83847,\n",
    "    \"John\" : 83837,\n",
    "    \"Jill\" : 94766\n",
    "}\n",
    "print(balance)"
   ]
  },
  {
   "cell_type": "markdown",
   "metadata": {
    "colab_type": "text",
    "id": "Mo0qfbesMvKE"
   },
   "source": [
    "### Accessing Items\n",
    "Use the key name inside the square brackets to access the elements from a dictionary"
   ]
  },
  {
   "cell_type": "code",
   "execution_count": null,
   "metadata": {
    "colab": {},
    "colab_type": "code",
    "id": "iOPaRUgzMvKG",
    "outputId": "fc29246a-3230-4bd5-bb46-210a030cb225"
   },
   "outputs": [
    {
     "data": {
      "text/plain": [
       "83847"
      ]
     },
     "execution_count": 7,
     "metadata": {
      "tags": []
     },
     "output_type": "execute_result"
    }
   ],
   "source": [
    "# Get the value for key \"Mia\" \n",
    "x = balance[\"Mia\"]\n",
    "x"
   ]
  },
  {
   "cell_type": "markdown",
   "metadata": {
    "colab_type": "text",
    "id": "B-8l7hvyMvKj"
   },
   "source": [
    "We can use get method to get the value of \"Mia\" key"
   ]
  },
  {
   "cell_type": "code",
   "execution_count": null,
   "metadata": {
    "colab": {},
    "colab_type": "code",
    "id": "BVSlE6NpMvKl",
    "outputId": "1bf2974d-dd9f-407b-fec5-52a244376769"
   },
   "outputs": [
    {
     "data": {
      "text/plain": [
       "83847"
      ]
     },
     "execution_count": 45,
     "metadata": {
      "tags": []
     },
     "output_type": "execute_result"
    }
   ],
   "source": [
    "x = balance.get(\"Mia\")\n",
    "x"
   ]
  },
  {
   "cell_type": "markdown",
   "metadata": {
    "colab_type": "text",
    "id": "tvSE2Q1DMvKt"
   },
   "source": [
    "### Change Values\n",
    "Change the value of a specific element by referring to its key name"
   ]
  },
  {
   "cell_type": "code",
   "execution_count": null,
   "metadata": {
    "colab": {},
    "colab_type": "code",
    "id": "Mn290kSeMvKv",
    "outputId": "d0305e81-a80e-4953-dd5d-16c7db75214a"
   },
   "outputs": [
    {
     "data": {
      "text/plain": [
       "{2015: 34500, 2016: 34300, 2017: 40000}"
      ]
     },
     "execution_count": 46,
     "metadata": {
      "tags": []
     },
     "output_type": "execute_result"
    }
   ],
   "source": [
    "# create a dictionary\n",
    "year_sales = {\n",
    "  2015: 34500,\n",
    "  2016: 34300,\n",
    "  2017: 40000\n",
    "}\n",
    "\n",
    "year_sales"
   ]
  },
  {
   "cell_type": "code",
   "execution_count": null,
   "metadata": {
    "colab": {},
    "colab_type": "code",
    "id": "FWCPIEjZMvLZ",
    "outputId": "918db26d-6b93-4a6f-c338-6298aedc462a"
   },
   "outputs": [
    {
     "data": {
      "text/plain": [
       "{2015: 45000, 2016: 34300, 2017: 40000}"
      ]
     },
     "execution_count": 47,
     "metadata": {
      "tags": []
     },
     "output_type": "execute_result"
    }
   ],
   "source": [
    "# Change the sales figure for 2015\n",
    "year_sales[2015] = 45000\n",
    "\n",
    "year_sales"
   ]
  },
  {
   "cell_type": "markdown",
   "metadata": {
    "colab_type": "text",
    "id": "dbQ9-DAnMvLp"
   },
   "source": [
    "**Dictionary Length**"
   ]
  },
  {
   "cell_type": "code",
   "execution_count": null,
   "metadata": {
    "colab": {},
    "colab_type": "code",
    "id": "mhXW5WE1MvLr",
    "outputId": "854b0f44-304f-495f-e0f6-c4cc278e49d2"
   },
   "outputs": [
    {
     "name": "stdout",
     "output_type": "stream",
     "text": [
      "3\n"
     ]
    }
   ],
   "source": [
    "# print the length of dictionary\n",
    "print(len(year_sales))"
   ]
  },
  {
   "cell_type": "markdown",
   "metadata": {
    "colab_type": "text",
    "id": "l_bfd_BKMvL3"
   },
   "source": [
    "**Adding Items**<br>\n",
    "Add an item to the dictionary by using a new index key and assign a value to it"
   ]
  },
  {
   "cell_type": "code",
   "execution_count": null,
   "metadata": {
    "colab": {},
    "colab_type": "code",
    "id": "a0Z9xWm3MvL5",
    "outputId": "f8401efc-80ef-4262-98c2-7b7d19d0cfed"
   },
   "outputs": [
    {
     "data": {
      "text/plain": [
       "{2015: 34500, 2016: 34300, 2017: 40000, '2018': 55000}"
      ]
     },
     "execution_count": 49,
     "metadata": {
      "tags": []
     },
     "output_type": "execute_result"
    }
   ],
   "source": [
    "# create a dictionary\n",
    "year_sales = {\n",
    "  2015: 34500,\n",
    "  2016: 34300,\n",
    "  2017: 40000\n",
    "}\n",
    "\n",
    "year_sales['2018'] = 55000\n",
    "\n",
    "year_sales"
   ]
  },
  {
   "cell_type": "markdown",
   "metadata": {
    "colab_type": "text",
    "id": "mWGtNptZMvMD"
   },
   "source": [
    "### Dictionary Method"
   ]
  },
  {
   "cell_type": "markdown",
   "metadata": {
    "colab_type": "text",
    "id": "AD84T3bAMvMF"
   },
   "source": [
    "**Removing Items**<br>\n",
    "Following are the methods to remove items from a dictionary:<br>\n",
    "keys() method<br>\n",
    "values() method<br>\n",
    "items() method<br>\n",
    "pop() method<br>\n",
    "popitem() method<br>\n",
    "del keywords<br>\n",
    "clear() method<br>\n",
    "copy() method<br>\n",
    "update() method<br>"
   ]
  },
  {
   "cell_type": "markdown",
   "metadata": {
    "colab_type": "text",
    "id": "229g1Ao8MvMG"
   },
   "source": [
    "**keys()**"
   ]
  },
  {
   "cell_type": "code",
   "execution_count": 3,
   "metadata": {
    "colab": {},
    "colab_type": "code",
    "id": "yN9etvZnMvMI"
   },
   "outputs": [],
   "source": [
    "# declare a dictionary containing information of cars and their respective horsepowers\n",
    "horsepower = {'BMW':949 , 'Mercedes':945 ,'Ferrari':954 ,'Volkswagen': 976,'Renault ':889}"
   ]
  },
  {
   "cell_type": "markdown",
   "metadata": {
    "colab_type": "text",
    "id": "us8jPOgUMvMQ"
   },
   "source": [
    "Let us now check now call the keys of the dictionary"
   ]
  },
  {
   "cell_type": "code",
   "execution_count": 4,
   "metadata": {
    "colab": {},
    "colab_type": "code",
    "id": "eG__BrRCMvMS",
    "outputId": "6c16620a-7b04-4f42-c564-726074941ffd"
   },
   "outputs": [
    {
     "data": {
      "text/plain": [
       "dict_values([949, 945, 954, 976, 889])"
      ]
     },
     "execution_count": 4,
     "metadata": {},
     "output_type": "execute_result"
    }
   ],
   "source": [
    "horsepower.values()"
   ]
  },
  {
   "cell_type": "markdown",
   "metadata": {
    "colab_type": "text",
    "id": "gGSNTyRdMvMc"
   },
   "source": [
    "It is possible to check whether a key belongs to the dictionary or not using the keyword 'in'"
   ]
  },
  {
   "cell_type": "code",
   "execution_count": null,
   "metadata": {
    "colab": {},
    "colab_type": "code",
    "id": "5laY-odPMvMe",
    "outputId": "13422125-efcf-40d6-d0ba-306f0365ab8a"
   },
   "outputs": [
    {
     "data": {
      "text/plain": [
       "False"
      ]
     },
     "execution_count": 52,
     "metadata": {
      "tags": []
     },
     "output_type": "execute_result"
    }
   ],
   "source": [
    "'Honda' in horsepower"
   ]
  },
  {
   "cell_type": "code",
   "execution_count": null,
   "metadata": {
    "colab": {},
    "colab_type": "code",
    "id": "9XEUDa_RMvMs",
    "outputId": "e9ae9167-2700-466d-eafc-a0be0543ccac"
   },
   "outputs": [
    {
     "data": {
      "text/plain": [
       "True"
      ]
     },
     "execution_count": 53,
     "metadata": {
      "tags": []
     },
     "output_type": "execute_result"
    }
   ],
   "source": [
    "'BMW' in horsepower"
   ]
  },
  {
   "cell_type": "markdown",
   "metadata": {
    "colab_type": "text",
    "id": "p-EIZd01MvM0"
   },
   "source": [
    "**values()**"
   ]
  },
  {
   "cell_type": "markdown",
   "metadata": {
    "colab_type": "text",
    "id": "FoNqjYUGMvM2"
   },
   "source": [
    "Let us now check the values for all the keys in the dictionary"
   ]
  },
  {
   "cell_type": "code",
   "execution_count": null,
   "metadata": {
    "colab": {},
    "colab_type": "code",
    "id": "_PjiFyRmMvM4",
    "outputId": "b92f53ec-f53c-46c1-b9f7-34560a895206"
   },
   "outputs": [
    {
     "data": {
      "text/plain": [
       "dict_values([949, 945, 954, 976, 889])"
      ]
     },
     "execution_count": 54,
     "metadata": {
      "tags": []
     },
     "output_type": "execute_result"
    }
   ],
   "source": [
    "horsepower.values()"
   ]
  },
  {
   "cell_type": "markdown",
   "metadata": {
    "colab_type": "text",
    "id": "ILtupRvvMvM_"
   },
   "source": [
    "However, like keys of the dictionary it is not possible to check whether a value belongs to the dictionary or not using the keyword 'in'"
   ]
  },
  {
   "cell_type": "code",
   "execution_count": null,
   "metadata": {
    "colab": {},
    "colab_type": "code",
    "id": "ao1tz7GoMvNA",
    "outputId": "d52540ad-4111-4af9-e926-293096919c53"
   },
   "outputs": [
    {
     "data": {
      "text/plain": [
       "False"
      ]
     },
     "execution_count": 55,
     "metadata": {
      "tags": []
     },
     "output_type": "execute_result"
    }
   ],
   "source": [
    "934 in horsepower"
   ]
  },
  {
   "cell_type": "code",
   "execution_count": null,
   "metadata": {
    "colab": {},
    "colab_type": "code",
    "id": "ZabGhRhaMvNH",
    "outputId": "0e96b3c1-9e92-4731-d84a-8de16544fb07"
   },
   "outputs": [
    {
     "data": {
      "text/plain": [
       "False"
      ]
     },
     "execution_count": 56,
     "metadata": {
      "tags": []
     },
     "output_type": "execute_result"
    }
   ],
   "source": [
    "949 in horsepower"
   ]
  },
  {
   "cell_type": "markdown",
   "metadata": {
    "colab_type": "text",
    "id": "IyI5Li8JMvNN"
   },
   "source": [
    "The values '934' and '949' are considered to be keys in the above cells. Since there are no such keys in the dictionary 'False' is returned."
   ]
  },
  {
   "cell_type": "markdown",
   "metadata": {
    "colab_type": "text",
    "id": "Iou7kzHnMvNP"
   },
   "source": [
    "**items()**"
   ]
  },
  {
   "cell_type": "markdown",
   "metadata": {
    "colab_type": "text",
    "id": "LpqKFNirMvNQ"
   },
   "source": [
    "The function item() returns the key along with its value."
   ]
  },
  {
   "cell_type": "code",
   "execution_count": null,
   "metadata": {
    "colab": {},
    "colab_type": "code",
    "id": "_MEI2U7fMvNS",
    "outputId": "22ea939e-ebb9-4ccc-ae9c-c9d5e38d9b01"
   },
   "outputs": [
    {
     "data": {
      "text/plain": [
       "dict_items([('BMW', 949), ('Mercedes', 945), ('Ferrari', 954), ('Volkswagen', 976), ('Renault ', 889)])"
      ]
     },
     "execution_count": 57,
     "metadata": {
      "tags": []
     },
     "output_type": "execute_result"
    }
   ],
   "source": [
    "horsepower.items()"
   ]
  },
  {
   "cell_type": "markdown",
   "metadata": {
    "colab_type": "text",
    "id": "Jvmp2SBRMvNa"
   },
   "source": [
    "It is possible to access the elements of the dictionary. It can be done as follows:"
   ]
  },
  {
   "cell_type": "code",
   "execution_count": null,
   "metadata": {
    "colab": {},
    "colab_type": "code",
    "id": "VGqy0yS_MvNc",
    "outputId": "991d46f2-1803-4070-8bcf-72335bf1daa7"
   },
   "outputs": [
    {
     "data": {
      "text/plain": [
       "('Mercedes', 945)"
      ]
     },
     "execution_count": 58,
     "metadata": {
      "tags": []
     },
     "output_type": "execute_result"
    }
   ],
   "source": [
    "a = horsepower.items()\n",
    "a = list(a)\n",
    "a[1]"
   ]
  },
  {
   "cell_type": "markdown",
   "metadata": {
    "colab_type": "text",
    "id": "CuCYloFaMvNi"
   },
   "source": [
    "**pop()**<br>\n",
    "Remove the element with the specified key name"
   ]
  },
  {
   "cell_type": "code",
   "execution_count": null,
   "metadata": {
    "colab": {},
    "colab_type": "code",
    "id": "fDuxIXMSMvNk",
    "outputId": "d4c13834-c523-435f-acb0-6333e6c1db60"
   },
   "outputs": [
    {
     "data": {
      "text/plain": [
       "{2016: 34300, 2017: 40000}"
      ]
     },
     "execution_count": 59,
     "metadata": {
      "tags": []
     },
     "output_type": "execute_result"
    }
   ],
   "source": [
    "# create a dictionary\n",
    "year_sales = {\n",
    "  2015: 34500,\n",
    "  2016: 34300,\n",
    "  2017: 40000\n",
    "}\n",
    "\n",
    "# remove key from dictionary\n",
    "year_sales.pop(2015)\n",
    "\n",
    "year_sales"
   ]
  },
  {
   "cell_type": "markdown",
   "metadata": {
    "colab_type": "text",
    "id": "4m2RnpUeMvNz"
   },
   "source": [
    "**popitem()**<br>\n",
    "It removes the last inserted item"
   ]
  },
  {
   "cell_type": "code",
   "execution_count": null,
   "metadata": {
    "colab": {},
    "colab_type": "code",
    "id": "tAoPnnN9MvN1",
    "outputId": "326ea263-774f-4ed8-8350-059bbf68a875"
   },
   "outputs": [
    {
     "data": {
      "text/plain": [
       "{2015: 34500, 2016: 34300}"
      ]
     },
     "execution_count": 60,
     "metadata": {
      "tags": []
     },
     "output_type": "execute_result"
    }
   ],
   "source": [
    "# create a dictionary\n",
    "year_sales = {\n",
    "  2015: 34500,\n",
    "  2016: 34300,\n",
    "  2017: 40000\n",
    "}\n",
    "\n",
    "# remove last item from the dictionary\n",
    "year_sales.popitem()\n",
    "\n",
    "year_sales"
   ]
  },
  {
   "cell_type": "markdown",
   "metadata": {
    "colab_type": "text",
    "id": "Ms7fMsu9MvN-"
   },
   "source": [
    "**del keyword**<br>\n",
    "delete the item with the specified key name"
   ]
  },
  {
   "cell_type": "code",
   "execution_count": null,
   "metadata": {
    "colab": {},
    "colab_type": "code",
    "id": "QKgvM5DZMvOA",
    "outputId": "80af16eb-c640-4af5-96a9-685af08792e8"
   },
   "outputs": [
    {
     "data": {
      "text/plain": [
       "{2016: 34300, 2017: 40000}"
      ]
     },
     "execution_count": 61,
     "metadata": {
      "tags": []
     },
     "output_type": "execute_result"
    }
   ],
   "source": [
    "# create a dictionary\n",
    "year_sales = {\n",
    "  2015: 34500,\n",
    "  2016: 34300,\n",
    "  2017: 40000\n",
    "}\n",
    "\n",
    "# delete item from the dictionary\n",
    "del year_sales[2015]\n",
    "\n",
    "year_sales"
   ]
  },
  {
   "cell_type": "markdown",
   "metadata": {
    "colab_type": "text",
    "id": "NPjRk04sMvOJ"
   },
   "source": [
    "**clear()**<br>\n",
    "The clear() keyword empties the entire dictionary"
   ]
  },
  {
   "cell_type": "code",
   "execution_count": null,
   "metadata": {
    "colab": {},
    "colab_type": "code",
    "id": "y_kdrV4RMvOK",
    "outputId": "b0e6cf8a-289c-4c46-f46c-22c6429eeac8"
   },
   "outputs": [
    {
     "data": {
      "text/plain": [
       "{}"
      ]
     },
     "execution_count": 62,
     "metadata": {
      "tags": []
     },
     "output_type": "execute_result"
    }
   ],
   "source": [
    "# create a dictionary\n",
    "year_sales = {\n",
    "  2015: 34500,\n",
    "  2016: 34300,\n",
    "  2017: 40000\n",
    "}\n",
    "\n",
    "# clear the dictionary\n",
    "year_sales.clear()\n",
    "\n",
    "year_sales"
   ]
  },
  {
   "cell_type": "markdown",
   "metadata": {
    "colab_type": "text",
    "id": "zrT-hJBeMvOS"
   },
   "source": [
    "**Copy()**<br>\n",
    "You cannot copy a dictionary by using dict2 = dict1, because dict2 will only be a reference to dict1, and changes made in dict1 will also be made in dict2.<br>\n",
    "Use copy() method to make copy of dictionary"
   ]
  },
  {
   "cell_type": "code",
   "execution_count": 5,
   "metadata": {
    "colab": {},
    "colab_type": "code",
    "id": "yWBI9QvPMvOU"
   },
   "outputs": [],
   "source": [
    "# create a dictionary\n",
    "year_sales = {\n",
    "  2015: 34500,\n",
    "  2016: 34300,\n",
    "  2017: 40000\n",
    "}\n",
    "\n",
    "# make a copy of dictionary\n",
    "copy_dict = year_sales.copy()"
   ]
  },
  {
   "cell_type": "code",
   "execution_count": 6,
   "metadata": {},
   "outputs": [
    {
     "data": {
      "text/plain": [
       "{2015: 34500, 2016: 34300, 2017: 40000}"
      ]
     },
     "execution_count": 6,
     "metadata": {},
     "output_type": "execute_result"
    }
   ],
   "source": [
    "copy_dict"
   ]
  },
  {
   "cell_type": "markdown",
   "metadata": {
    "colab_type": "text",
    "id": "LUDf2yOIMvOe"
   },
   "source": [
    "**update()**<br>\n",
    "Add and modify dictionaries by using the dict.update() method"
   ]
  },
  {
   "cell_type": "code",
   "execution_count": null,
   "metadata": {
    "colab": {},
    "colab_type": "code",
    "id": "dfS2-EWPMvOp",
    "outputId": "fe2464c4-859d-4d75-a642-6948a6e73124"
   },
   "outputs": [
    {
     "data": {
      "text/plain": [
       "{2015: 34500, 2016: 34300, 2017: 40000, 2018: 30000}"
      ]
     },
     "execution_count": 64,
     "metadata": {
      "tags": []
     },
     "output_type": "execute_result"
    }
   ],
   "source": [
    "# create a dictionary\n",
    "year_sales = {\n",
    "  2015: 34500,\n",
    "  2016: 34300,\n",
    "  2017: 40000\n",
    "}\n",
    "\n",
    "# update dictionary\n",
    "year_sales.update({2018:30000})\n",
    "\n",
    "year_sales"
   ]
  },
  {
   "cell_type": "markdown",
   "metadata": {
    "colab_type": "text",
    "id": "MBr8TdBxMvOv"
   },
   "source": [
    "<a id=\"sets\"> </a>\n",
    "## 4. Introduction to Sets\n",
    "<table align=\"left\">\n",
    "    <tr>\n",
    "        <td width=\"15%\">\n",
    "            <img src=\"note.png\">\n",
    "        </td>\n",
    "        <td>\n",
    "            <div align=\"left\", style=\"font-size:120%\">\n",
    "                <font color=\"#21618C\">\n",
    "                    <b>It is a collection of unique items.<br> \n",
    "                    It is used to eliminate duplicate items from a list.<br>\n",
    "                    Also, it supports set operations like union intersection and difference.                    \n",
    "                    </b>\n",
    "                </font>\n",
    "            </div>\n",
    "        </td>\n",
    "    </tr>\n",
    "</table>"
   ]
  },
  {
   "cell_type": "markdown",
   "metadata": {
    "colab_type": "text",
    "id": "fDB_MWgeMvOw"
   },
   "source": [
    "### Creating Set\n",
    "In Python sets are written with curly brackets"
   ]
  },
  {
   "cell_type": "code",
   "execution_count": null,
   "metadata": {
    "colab": {},
    "colab_type": "code",
    "id": "4rwbiuhSMvOy",
    "outputId": "863eff2b-389e-4e5b-b758-94cef6121746"
   },
   "outputs": [
    {
     "name": "stdout",
     "output_type": "stream",
     "text": [
      "{32, 33, 11, 12, 13, 21, 23, 24, 31}\n"
     ]
    },
    {
     "data": {
      "text/plain": [
       "{1, 2, 3, 4}"
      ]
     },
     "execution_count": 65,
     "metadata": {
      "tags": []
     },
     "output_type": "execute_result"
    }
   ],
   "source": [
    "# create a set\n",
    "age_set = {11, 12, 31, 13, 24, 32, 33, 21, 23, 12}\n",
    "print (age_set)\n",
    "\n",
    "# create a set\n",
    "set([1, 2, 3, 4])"
   ]
  },
  {
   "cell_type": "code",
   "execution_count": 7,
   "metadata": {},
   "outputs": [
    {
     "name": "stdout",
     "output_type": "stream",
     "text": [
      "{1, 2, 3, 4, 5}\n"
     ]
    }
   ],
   "source": [
    "a = {1,1,1,2,2,2,3,3,3,4,4,4,5,5,5}\n",
    "print(a)"
   ]
  },
  {
   "cell_type": "markdown",
   "metadata": {
    "colab_type": "text",
    "id": "JzubQQl4MvO6"
   },
   "source": [
    "<table align=\"left\">\n",
    "    <tr>\n",
    "        <td width=\"7%\">\n",
    "            <img src=\"caution.png\">\n",
    "        </td>\n",
    "        <td>\n",
    "            <div align=\"left\", style=\"font-size:120%\">\n",
    "                <font color=\"#21618C\">\n",
    "                    <b>Observed that the set contains unique items only even though we put duplicates into it\n",
    "                    </b>\n",
    "                </font>\n",
    "            </div>\n",
    "        </td>\n",
    "    </tr>\n",
    "</table>"
   ]
  },
  {
   "cell_type": "markdown",
   "metadata": {
    "colab_type": "text",
    "id": "72f9ZXaiMvO8"
   },
   "source": [
    "A set can contain elements of different data types"
   ]
  },
  {
   "cell_type": "code",
   "execution_count": null,
   "metadata": {
    "colab": {},
    "colab_type": "code",
    "id": "nj_f_DSYMvO9",
    "outputId": "04a02a26-b7fc-42f0-8f59-048f05de87ab"
   },
   "outputs": [
    {
     "data": {
      "text/plain": [
       "{'python', 'world', 12, 4}"
      ]
     },
     "execution_count": 66,
     "metadata": {
      "tags": []
     },
     "output_type": "execute_result"
    }
   ],
   "source": [
    "# create a set\n",
    "new_set = {12, 12, 'python', 4, 'world'}\n",
    "\n",
    "# print\n",
    "new_set"
   ]
  },
  {
   "cell_type": "markdown",
   "metadata": {
    "colab_type": "text",
    "id": "_ma0anzCMvPE"
   },
   "source": [
    "Following are the methods that you can use on sets:<br>\n",
    "add()<br>\n",
    "update()<br>\n",
    "len()<br>\n",
    "remove()<br>\n",
    "pop()<br>"
   ]
  },
  {
   "cell_type": "markdown",
   "metadata": {
    "colab_type": "text",
    "id": "Pns7-BGBMvPG"
   },
   "source": [
    "### Change Items\n",
    "Once a set is created, you cannot modify its items, but you can add new items"
   ]
  },
  {
   "cell_type": "markdown",
   "metadata": {
    "colab_type": "text",
    "id": "3zaLKDdhMvPM"
   },
   "source": [
    "**Add Items**<br>\n",
    "Use add() method to add one item to a set<br>\n",
    "Use update() method to add more than one item"
   ]
  },
  {
   "cell_type": "code",
   "execution_count": null,
   "metadata": {
    "colab": {},
    "colab_type": "code",
    "id": "_X6MVoBKMvPN",
    "outputId": "795232ce-8c70-4219-d3d2-8762ae71d159"
   },
   "outputs": [
    {
     "data": {
      "text/plain": [
       "{'hi', 'python', 'world'}"
      ]
     },
     "execution_count": 67,
     "metadata": {
      "tags": []
     },
     "output_type": "execute_result"
    }
   ],
   "source": [
    "# create a set\n",
    "my_set = {'python','world'}\n",
    "\n",
    "# add element\n",
    "my_set.add(\"hi\")\n",
    "\n",
    "my_set"
   ]
  },
  {
   "cell_type": "markdown",
   "metadata": {
    "colab_type": "text",
    "id": "vsVkXdFMMvPU"
   },
   "source": [
    "Add multiple items to a set"
   ]
  },
  {
   "cell_type": "code",
   "execution_count": null,
   "metadata": {
    "colab": {},
    "colab_type": "code",
    "id": "mLQ6R50cMvPV",
    "outputId": "27644cb4-7374-4ea9-c85e-66e8c50e64ee"
   },
   "outputs": [
    {
     "data": {
      "text/plain": [
       "{'data science', 'machine learning', 'python', 'world'}"
      ]
     },
     "execution_count": 68,
     "metadata": {
      "tags": []
     },
     "output_type": "execute_result"
    }
   ],
   "source": [
    "# create a set\n",
    "my_set = {'python','world'}\n",
    "\n",
    "# update the set\n",
    "my_set.update(['data science', 'machine learning'])\n",
    "\n",
    "my_set"
   ]
  },
  {
   "cell_type": "markdown",
   "metadata": {
    "colab_type": "text",
    "id": "-eysOh0RMvPf"
   },
   "source": [
    "**Length of Set**"
   ]
  },
  {
   "cell_type": "code",
   "execution_count": null,
   "metadata": {
    "colab": {},
    "colab_type": "code",
    "id": "01i339xIMvPg",
    "outputId": "53533926-678c-4f64-fe59-7c8ada79d97d"
   },
   "outputs": [
    {
     "data": {
      "text/plain": [
       "2"
      ]
     },
     "execution_count": 69,
     "metadata": {
      "tags": []
     },
     "output_type": "execute_result"
    }
   ],
   "source": [
    "# create a set\n",
    "my_set = {'python','world'}\n",
    "\n",
    "# print the length of set\n",
    "len(my_set)"
   ]
  },
  {
   "cell_type": "markdown",
   "metadata": {
    "colab_type": "text",
    "id": "nZKih-JuMvPp"
   },
   "source": [
    "**remove() method**<br>\n",
    "Use remove() or discard() method to remove an item in a set"
   ]
  },
  {
   "cell_type": "code",
   "execution_count": null,
   "metadata": {
    "colab": {},
    "colab_type": "code",
    "id": "3ekfaea7MvPq",
    "outputId": "0c6bd453-a63a-4a3f-d9b4-22fa6a1e98f6"
   },
   "outputs": [
    {
     "data": {
      "text/plain": [
       "{'machine learning', 'python', 'world'}"
      ]
     },
     "execution_count": 70,
     "metadata": {
      "tags": []
     },
     "output_type": "execute_result"
    }
   ],
   "source": [
    "# create a set\n",
    "my_set = {'data science', 'machine learning', 'python', 'world'}\n",
    "\n",
    "# remove element from list \n",
    "my_set.remove('data science')\n",
    "\n",
    "my_set"
   ]
  },
  {
   "cell_type": "markdown",
   "metadata": {
    "colab_type": "text",
    "id": "FzQlhHRbMvPy"
   },
   "source": [
    "**pop() method**<br>\n",
    "It removes a random element from the set and returns the removed element"
   ]
  },
  {
   "cell_type": "code",
   "execution_count": 10,
   "metadata": {
    "colab": {},
    "colab_type": "code",
    "id": "WiURjuJ6MvP0",
    "outputId": "94945be0-0986-4d3f-d1f0-b9e5568f674b"
   },
   "outputs": [
    {
     "data": {
      "text/plain": [
       "'machine learning'"
      ]
     },
     "execution_count": 10,
     "metadata": {},
     "output_type": "execute_result"
    }
   ],
   "source": [
    "# create a set\n",
    "my_set = {'data science', 'machine learning', 'python', 'world'}\n",
    "\n",
    "# remove random element from set \n",
    "my_set.pop()"
   ]
  },
  {
   "cell_type": "code",
   "execution_count": 11,
   "metadata": {
    "colab": {},
    "colab_type": "code",
    "id": "Y7n0zVGaMvP7",
    "outputId": "868ea3c7-607f-44f8-af19-d17ba025227d"
   },
   "outputs": [
    {
     "data": {
      "text/plain": [
       "1"
      ]
     },
     "execution_count": 11,
     "metadata": {},
     "output_type": "execute_result"
    }
   ],
   "source": [
    "# create a set\n",
    "my_set1 = {1,2,3,\"data\", \"science\"}\n",
    "\n",
    "# remove random element from set\n",
    "my_set1.pop()"
   ]
  },
  {
   "cell_type": "markdown",
   "metadata": {
    "colab_type": "text",
    "id": "mHG1BpwIMvQC"
   },
   "source": [
    "### Set Operations"
   ]
  },
  {
   "cell_type": "markdown",
   "metadata": {
    "colab_type": "text",
    "id": "0fbiygveMvQD"
   },
   "source": [
    "**Disjoint set**: if the two sets have no common elements"
   ]
  },
  {
   "cell_type": "code",
   "execution_count": 14,
   "metadata": {
    "colab": {},
    "colab_type": "code",
    "id": "ymBlCsYIMvQE",
    "outputId": "097ce52d-6aff-48ac-ad9a-08b9ff2abe3a"
   },
   "outputs": [
    {
     "name": "stdout",
     "output_type": "stream",
     "text": [
      "False\n"
     ]
    }
   ],
   "source": [
    "print (set([11, 12, 22, 33, 4]).isdisjoint(set([2, 33])))"
   ]
  },
  {
   "cell_type": "markdown",
   "metadata": {
    "colab_type": "text",
    "id": "pX-Sp2rhMvQL"
   },
   "source": [
    "**Checking for subset**<br>\n",
    "Use issubset() method to check whether all elements of a set are contained in another set"
   ]
  },
  {
   "cell_type": "code",
   "execution_count": 16,
   "metadata": {
    "colab": {},
    "colab_type": "code",
    "id": "oYD-WdKzMvQM",
    "outputId": "384e3c53-5551-475b-ebc5-594ccc07fe7d"
   },
   "outputs": [
    {
     "name": "stdout",
     "output_type": "stream",
     "text": [
      "Is a subset of b? False\n"
     ]
    }
   ],
   "source": [
    "# check whether one set 'a' is a subset of the 'b'\n",
    "a = set([1, 3, 4,11])\n",
    "b = set([1, 3, 4, 5, 6])\n",
    "print('Is a subset of b?', a.issubset(b))"
   ]
  },
  {
   "cell_type": "markdown",
   "metadata": {
    "colab_type": "text",
    "id": "LCsbXzdpMvQR"
   },
   "source": [
    "**Set Union**<br>\n",
    "Use union() method to compute the union of two or more sets"
   ]
  },
  {
   "cell_type": "code",
   "execution_count": null,
   "metadata": {
    "colab": {},
    "colab_type": "code",
    "id": "Kmv2dUPgMvQS",
    "outputId": "760e329e-7844-48ed-9e79-7444b5eb2d1f"
   },
   "outputs": [
    {
     "name": "stdout",
     "output_type": "stream",
     "text": [
      "{1, 2, 3, 4, 5, 6}\n"
     ]
    }
   ],
   "source": [
    "a = set([1, 2, 3])\n",
    "b = set([3, 4, 5, 6])\n",
    "print (a.union(b))"
   ]
  },
  {
   "cell_type": "markdown",
   "metadata": {
    "colab_type": "text",
    "id": "rxwbhO7jMvQX"
   },
   "source": [
    "**Set Intersection**<br>\n",
    "Take intersection to find the common elements"
   ]
  },
  {
   "cell_type": "code",
   "execution_count": null,
   "metadata": {
    "colab": {},
    "colab_type": "code",
    "id": "QQtdJoZ5MvQY",
    "outputId": "efc32a90-a8e8-43de-a1fd-9e5171fc1fcf"
   },
   "outputs": [
    {
     "name": "stdout",
     "output_type": "stream",
     "text": [
      "{12, 78}\n",
      "{12, 78}\n"
     ]
    }
   ],
   "source": [
    "a = set([12,34,56,78])\n",
    "b = set([12,45,67,89,78])\n",
    "c = set([12,34,56,78,56])\n",
    "print (a & b)\n",
    "print (a & b & c)"
   ]
  },
  {
   "cell_type": "markdown",
   "metadata": {
    "colab_type": "text",
    "id": "OMfwNfeNMvQi"
   },
   "source": [
    "**Set Difference**<br>\n",
    "It returns a new set containing all items from the first set that are not in the other set"
   ]
  },
  {
   "cell_type": "code",
   "execution_count": null,
   "metadata": {
    "colab": {},
    "colab_type": "code",
    "id": "p_nISPbPMvQj",
    "outputId": "56303771-931a-4a37-a75c-c672b69af41b"
   },
   "outputs": [
    {
     "name": "stdout",
     "output_type": "stream",
     "text": [
      "{56, 89, 77}\n"
     ]
    }
   ],
   "source": [
    "a = set([23,45,56,77,89])\n",
    "b = set([23,45,54,33,23])\n",
    "print(a - b)"
   ]
  }
 ],
 "metadata": {
  "colab": {
   "name": "Faculty_notebook (Day 2).ipynb",
   "provenance": []
  },
  "kernelspec": {
   "display_name": "Python 3 (ipykernel)",
   "language": "python",
   "name": "python3"
  },
  "language_info": {
   "codemirror_mode": {
    "name": "ipython",
    "version": 3
   },
   "file_extension": ".py",
   "mimetype": "text/x-python",
   "name": "python",
   "nbconvert_exporter": "python",
   "pygments_lexer": "ipython3",
   "version": "3.11.3"
  }
 },
 "nbformat": 4,
 "nbformat_minor": 1
}
