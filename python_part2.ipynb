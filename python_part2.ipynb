{
 "cells": [
  {
   "cell_type": "code",
   "execution_count": null,
   "id": "1641295e",
   "metadata": {},
   "outputs": [],
   "source": [
    "#python_flow_control\n",
    "#conditional statement => if/elif/else\n",
    "#loops => for/while"
   ]
  },
  {
   "cell_type": "code",
   "execution_count": null,
   "id": "5451a2e5",
   "metadata": {},
   "outputs": [],
   "source": [
    "a = 67\n",
    "#18 > => eligible to vote\n",
    "#not eligibe"
   ]
  },
  {
   "cell_type": "code",
   "execution_count": 92,
   "id": "cf1e1500",
   "metadata": {},
   "outputs": [
    {
     "data": {
      "text/plain": [
       "True"
      ]
     },
     "execution_count": 92,
     "metadata": {},
     "output_type": "execute_result"
    }
   ],
   "source": [
    "a = 34\n",
    "a>18"
   ]
  },
  {
   "cell_type": "code",
   "execution_count": 94,
   "id": "850d4e85",
   "metadata": {},
   "outputs": [
    {
     "name": "stdout",
     "output_type": "stream",
     "text": [
      "not eligible\n"
     ]
    }
   ],
   "source": [
    "a = 12\n",
    "if a>18:\n",
    "    print(\"eligible to vote\")\n",
    "else:\n",
    "    print(\"not eligible\")"
   ]
  },
  {
   "cell_type": "code",
   "execution_count": 97,
   "id": "173b60a0",
   "metadata": {},
   "outputs": [
    {
     "name": "stdout",
     "output_type": "stream",
     "text": [
      "old\n"
     ]
    }
   ],
   "source": [
    "#<18 => young\n",
    "#<45 => youth\n",
    "#>45 => old\n",
    "a = 60\n",
    "if a<18:\n",
    "    print(\"young\")\n",
    "elif a<45:\n",
    "    print(\"Youth\")\n",
    "else:\n",
    "    print(\"old\")"
   ]
  },
  {
   "cell_type": "code",
   "execution_count": 99,
   "id": "68f7db1d",
   "metadata": {},
   "outputs": [
    {
     "name": "stdout",
     "output_type": "stream",
     "text": [
      "1\n",
      "2\n",
      "3\n",
      "4\n",
      "5\n",
      "6\n",
      "7\n",
      "8\n",
      "9\n",
      "10\n"
     ]
    }
   ],
   "source": [
    "#for loop\n",
    "for i in range(1,11):\n",
    "    print(i)"
   ]
  },
  {
   "cell_type": "code",
   "execution_count": 100,
   "id": "585e6704",
   "metadata": {},
   "outputs": [
    {
     "name": "stdout",
     "output_type": "stream",
     "text": [
      "1\n",
      "2\n",
      "3\n",
      "4\n",
      "5\n",
      "6\n",
      "7\n",
      "8\n",
      "9\n"
     ]
    }
   ],
   "source": [
    "#while \n",
    "a = 1\n",
    "while a<10:\n",
    "    print(a)\n",
    "    a+=1\n"
   ]
  },
  {
   "cell_type": "code",
   "execution_count": null,
   "id": "fcf824c4",
   "metadata": {},
   "outputs": [],
   "source": [
    "#prime/not\n",
    "#sum of the digits of the numbers"
   ]
  },
  {
   "cell_type": "code",
   "execution_count": 105,
   "id": "4469eb64",
   "metadata": {},
   "outputs": [
    {
     "name": "stdout",
     "output_type": "stream",
     "text": [
      "not prime\n"
     ]
    }
   ],
   "source": [
    "a = 34\n",
    "flag = 0\n",
    "for i in range(2,a):\n",
    "    if a%i == 0:\n",
    "        flag +=1\n",
    "        break\n",
    "if flag == 1:\n",
    "    print(\"not prime\")\n",
    "else:\n",
    "    print(\"prime\")"
   ]
  },
  {
   "cell_type": "code",
   "execution_count": 107,
   "id": "e587dd6e",
   "metadata": {},
   "outputs": [
    {
     "name": "stdout",
     "output_type": "stream",
     "text": [
      "12\n"
     ]
    }
   ],
   "source": [
    "#while\n",
    "a = 345\n",
    "sum = 0\n",
    "while a>0:\n",
    "    last = a%10\n",
    "    sum = sum+last\n",
    "    a = a//10\n",
    "print(sum)"
   ]
  },
  {
   "cell_type": "code",
   "execution_count": null,
   "id": "4c35c0b6",
   "metadata": {},
   "outputs": [],
   "source": []
  }
 ],
 "metadata": {
  "kernelspec": {
   "display_name": "Python 3 (ipykernel)",
   "language": "python",
   "name": "python3"
  },
  "language_info": {
   "codemirror_mode": {
    "name": "ipython",
    "version": 3
   },
   "file_extension": ".py",
   "mimetype": "text/x-python",
   "name": "python",
   "nbconvert_exporter": "python",
   "pygments_lexer": "ipython3",
   "version": "3.11.3"
  }
 },
 "nbformat": 4,
 "nbformat_minor": 5
}
